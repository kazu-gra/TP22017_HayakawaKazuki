{
 "cells": [
  {
   "cell_type": "code",
   "execution_count": 6,
   "metadata": {},
   "outputs": [
    {
     "name": "stdout",
     "output_type": "stream",
     "text": [
      "tensor(0.5999)\n"
     ]
    }
   ],
   "source": [
    "import torch\n",
    "model = torch.load('/workspace/40/ours2_2best.pt', map_location='cpu')\n",
    "\n",
    "import ultralytics.nn.modules.pruned_modules as P\n",
    "rm = P.rm_modules(model['model'])\n",
    "zero = 0\n",
    "sum_ = 0\n",
    "for i in range(len(rm)):\n",
    "    #print((rm[i][0].weight_mask.count_nonzero() / rm[i][0].weight_mask.numel()).item())\n",
    "    zero += rm[i][0].weight_mask.count_nonzero()\n",
    "    sum_ += rm[i][0].weight_mask.numel()\n",
    "\n",
    "print(zero / sum_)"
   ]
  },
  {
   "cell_type": "code",
   "execution_count": 2,
   "metadata": {},
   "outputs": [
    {
     "data": {
      "text/plain": [
       "2"
      ]
     },
     "execution_count": 2,
     "metadata": {},
     "output_type": "execute_result"
    }
   ],
   "source": [
    "import torch\n",
    "model_ = torch.load('/workspace/Outputs/mag_20_1/train/weights/init.pt', map_location='cpu')\n",
    "model_.keys()\n",
    "model_['epoch']"
   ]
  }
 ],
 "metadata": {
  "kernelspec": {
   "display_name": "base",
   "language": "python",
   "name": "python3"
  },
  "language_info": {
   "codemirror_mode": {
    "name": "ipython",
    "version": 3
   },
   "file_extension": ".py",
   "mimetype": "text/x-python",
   "name": "python",
   "nbconvert_exporter": "python",
   "pygments_lexer": "ipython3",
   "version": "3.10.13"
  }
 },
 "nbformat": 4,
 "nbformat_minor": 2
}
